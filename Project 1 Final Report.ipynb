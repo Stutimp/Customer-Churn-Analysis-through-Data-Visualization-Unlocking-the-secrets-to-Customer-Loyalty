{
 "cells": [
  {
   "cell_type": "markdown",
   "id": "694fe8bd",
   "metadata": {},
   "source": [
    "# Telco Customer Churn"
   ]
  },
  {
   "cell_type": "code",
   "execution_count": 1,
   "id": "5f7e8a12",
   "metadata": {},
   "outputs": [
    {
     "ename": "ModuleNotFoundError",
     "evalue": "No module named 'matplotlib'",
     "output_type": "error",
     "traceback": [
      "\u001b[1;31m---------------------------------------------------------------------------\u001b[0m",
      "\u001b[1;31mModuleNotFoundError\u001b[0m                       Traceback (most recent call last)",
      "Cell \u001b[1;32mIn[1], line 2\u001b[0m\n\u001b[0;32m      1\u001b[0m \u001b[38;5;66;03m# Dependencies and Setup\u001b[39;00m\n\u001b[1;32m----> 2\u001b[0m \u001b[38;5;28;01mimport\u001b[39;00m \u001b[38;5;21;01mmatplotlib\u001b[39;00m\u001b[38;5;21;01m.\u001b[39;00m\u001b[38;5;21;01mpyplot\u001b[39;00m \u001b[38;5;28;01mas\u001b[39;00m \u001b[38;5;21;01mplt\u001b[39;00m\n\u001b[0;32m      3\u001b[0m \u001b[38;5;28;01mimport\u001b[39;00m \u001b[38;5;21;01mpandas\u001b[39;00m \u001b[38;5;28;01mas\u001b[39;00m \u001b[38;5;21;01mpd\u001b[39;00m\n\u001b[0;32m      4\u001b[0m \u001b[38;5;28;01mimport\u001b[39;00m \u001b[38;5;21;01mscipy\u001b[39;00m\u001b[38;5;21;01m.\u001b[39;00m\u001b[38;5;21;01mstats\u001b[39;00m \u001b[38;5;28;01mas\u001b[39;00m \u001b[38;5;21;01mst\u001b[39;00m\n",
      "\u001b[1;31mModuleNotFoundError\u001b[0m: No module named 'matplotlib'"
     ]
    }
   ],
   "source": [
    "# Dependencies and Setup\n",
    "import matplotlib.pyplot as plt\n",
    "import pandas as pd\n",
    "import scipy.stats as st\n",
    "import numpy as np\n",
    "%matplotlib inline\n",
    "import seaborn as sns\n",
    "import warnings\n",
    "warnings.filterwarnings('ignore')\n",
    "from scipy.stats import linregress"
   ]
  },
  {
   "cell_type": "code",
   "execution_count": null,
   "id": "6ea4e3ed",
   "metadata": {},
   "outputs": [],
   "source": [
    "# Study data files\n",
    "TELCO_PATH = \"Resources/Telco_Customer_Churn_copydataset.csv\""
   ]
  },
  {
   "cell_type": "code",
   "execution_count": null,
   "id": "914f5aad",
   "metadata": {},
   "outputs": [],
   "source": [
    "# Read the Telco data and the study results\n",
    "telco_data = pd.read_csv(TELCO_PATH)"
   ]
  },
  {
   "cell_type": "markdown",
   "id": "40ae29bc",
   "metadata": {},
   "source": [
    "## Telco dataset"
   ]
  },
  {
   "cell_type": "code",
   "execution_count": null,
   "id": "66f38e2b",
   "metadata": {
    "scrolled": true
   },
   "outputs": [],
   "source": [
    "telco_data"
   ]
  },
  {
   "cell_type": "markdown",
   "id": "cdde381c",
   "metadata": {},
   "source": [
    "## About Dataset"
   ]
  },
  {
   "cell_type": "markdown",
   "id": "97c27d36",
   "metadata": {},
   "source": [
    " The data set includes information about:\n",
    "\n",
    "- Customers who left within the last month – the column is called Churn.\n",
    "- Services that each customer has signed up for – phone, multiple lines, internet, online security, online backup, device protection, tech support, and streaming TV and movies\n",
    "- Customer account information – how long they’ve been a customer, contract, payment method, paperless billing, monthly charges, and total charges\n",
    "- Demographic info about customers – gender, age range, and if they have partners and dependents"
   ]
  },
  {
   "cell_type": "code",
   "execution_count": null,
   "id": "51ce9b0f",
   "metadata": {
    "scrolled": true
   },
   "outputs": [],
   "source": [
    "telco_data.shape"
   ]
  },
  {
   "cell_type": "markdown",
   "id": "24f949d5",
   "metadata": {},
   "source": [
    "####  In the telco_data set we have 7043 rows(data points) and 21 columns."
   ]
  },
  {
   "cell_type": "markdown",
   "id": "efbc1ddf",
   "metadata": {},
   "source": []
  },
  {
   "cell_type": "code",
   "execution_count": null,
   "id": "3966a2be",
   "metadata": {},
   "outputs": [],
   "source": [
    "telco_data.nunique()"
   ]
  },
  {
   "cell_type": "markdown",
   "id": "85fee609",
   "metadata": {},
   "source": [
    "### Dataset quick Analysis"
   ]
  },
  {
   "cell_type": "markdown",
   "id": "a4a50e5b",
   "metadata": {},
   "source": [
    "With the nunique() function,we are able to determine the number of unique values in each column of the telco DataFrame.  Here we find that there are 7,043 data points in the telco_data set each unique customer id representing a seperate data point.In the 'gender' column we have 2 values, they are male and female. In the 'Senior Citizen' column we have also 2 values, i.e, 0 & 1 , which means senior citizen for 1 and not senior citizen for 0. In the 'Partner' column also we have 2 columns,'Yes' (have parnter)and 'No' they don't have partner. Likewise, 'Dependents' column have also 2 values,i.e,'Yes' and 'No'. 'Tenure' column which signifies the number of months the customer has stayed with the company, has numerical values.'Phone service' has 2 values as well, \"Yes\" and \"No\". Likewise, 'Multiple lines','Internet Service','On line Security', 'Device protection', 'Tech Support','Streaming Tv', &'Streaming Movie' all columns contains all 3 values 'Yes', 'No' & 'No internet Service respectively.'Contract' column contains 3 values, they are, month-to-month, one-year, and two-year. 'Paperless Billing' contains 2 values,i.e, 'Yes' or 'No'.Likewise, there are 4 values in the 'Payment Method' column, they are, 'Electronic check', 'Mailed check', 'Bank transfer (automatic), and 'Credit Card'. 'Monthly Charges' column also has numerical value. Whereas Total Total charges has numerical values but is listed as object type which we will soon convert into numerical data type for proper data analysis. And finally 'Churn' which has our primary focus and here considered as dependant variable has two value, i.e, 'Yes' or 'No'. "
   ]
  },
  {
   "cell_type": "code",
   "execution_count": null,
   "id": "796df2fc",
   "metadata": {},
   "outputs": [],
   "source": [
    "#checking data types of the columns\n",
    "telco_data.dtypes\n"
   ]
  },
  {
   "cell_type": "code",
   "execution_count": null,
   "id": "0e91714e",
   "metadata": {},
   "outputs": [],
   "source": [
    "## extracting categorical columns, by comparing with respect to object dataype\n",
    "# categorical and numerical columns\n",
    "categorical_columns =[each for each in telco_data.columns if telco_data[each].dtype==\"object\"] \n",
    "# convert list to set, to extract unique elements\n",
    "numerical_columns = list(set(telco_data.columns) - set(categorical_columns) - {\"customerID\"}) "
   ]
  },
  {
   "cell_type": "code",
   "execution_count": null,
   "id": "7723c3f0",
   "metadata": {},
   "outputs": [],
   "source": [
    "numerical_columns"
   ]
  },
  {
   "cell_type": "code",
   "execution_count": null,
   "id": "8ff180c9",
   "metadata": {
    "scrolled": true
   },
   "outputs": [],
   "source": [
    "categorical_columns"
   ]
  },
  {
   "cell_type": "markdown",
   "id": "00ebfea2",
   "metadata": {},
   "source": [
    "### Analysis"
   ]
  },
  {
   "cell_type": "markdown",
   "id": "3ecfb680",
   "metadata": {},
   "source": [
    "Here, we find that `Senior Citizen, tenure and Monthly Charges` are the only columns which are numerical here,however there are other columns such as, `Total charges` which is currently listed as object type, as data value also contains string values.Hence,for proper analysis, we should convert the `Total charges` series into to a numerical type (like float) . "
   ]
  },
  {
   "cell_type": "code",
   "execution_count": null,
   "id": "2bd46372",
   "metadata": {
    "scrolled": true
   },
   "outputs": [],
   "source": [
    "telco_data.info()"
   ]
  },
  {
   "cell_type": "markdown",
   "id": "fbe39337",
   "metadata": {},
   "source": [
    "## Exploratory Data Analysis"
   ]
  },
  {
   "cell_type": "markdown",
   "id": "86771f5b",
   "metadata": {},
   "source": [
    "Here we can see in the above dataframe that there are no null-values in the data set.Hence we are ready to do the explorative data analysis."
   ]
  },
  {
   "cell_type": "markdown",
   "id": "be5bb06c",
   "metadata": {},
   "source": [
    "In this telco dataset, basically we are trying to predict customers behavior to retain them in the business. Hence we will try to explore what are the factors or independent variables those are converting our churn variable which is our dependent variable . In other words, we are basically trying to figure out what are the factors those may be responsible for the customers to leave the business.\n",
    "Below I have tried to analyze churning behavior of the customer in terms of some of the relevant factors that may have affected the churning behavior of the overall customers. "
   ]
  },
  {
   "cell_type": "code",
   "execution_count": null,
   "id": "0cccbab8",
   "metadata": {},
   "outputs": [],
   "source": [
    "#calculating Average monthly charges of the services\n",
    "avg_monthly_chrg = telco_data[\"MonthlyCharges\"].mean()\n",
    "avg_monthly_chrg"
   ]
  },
  {
   "cell_type": "code",
   "execution_count": null,
   "id": "63b9fe0b",
   "metadata": {},
   "outputs": [],
   "source": [
    "#creating churn dataframe\n",
    "churn_df = pd.DataFrame(telco_data[\"Churn\"])\n",
    "churn_df"
   ]
  },
  {
   "cell_type": "code",
   "execution_count": null,
   "id": "5cb7d347",
   "metadata": {},
   "outputs": [],
   "source": [
    "#converting churn column into numeric and adding another column for it\n",
    "telco_data['churn_numeric'] = telco_data['Churn'].map({'Yes': 1, 'No': 0})\n",
    "\n",
    "# Now, 'Churn_numeric' is a numeric column with 1 representing 'Yes' and 0 representing 'No'.\n"
   ]
  },
  {
   "cell_type": "markdown",
   "id": "67a0a995",
   "metadata": {},
   "source": [
    "### Analysis:"
   ]
  },
  {
   "cell_type": "markdown",
   "id": "572401f1",
   "metadata": {},
   "source": [
    "By using the above panda code we are mapping the 'Churn' column to a new column 'churn_numeric' with binary values.This will create a new column in our telco_data DataFrame where the 'Yes' values in the 'Churn' column are replaced by 1, and the 'No' values are replaced by 0, so now we can use this new numeric column for any further analysis."
   ]
  },
  {
   "cell_type": "code",
   "execution_count": null,
   "id": "aeab93bb",
   "metadata": {
    "scrolled": true
   },
   "outputs": [],
   "source": [
    "telco_data.head()"
   ]
  },
  {
   "cell_type": "markdown",
   "id": "ded93098",
   "metadata": {},
   "source": [
    "# Data Analysis of churning behavior of customers using some relevant factors"
   ]
  },
  {
   "cell_type": "markdown",
   "id": "34d8aad9",
   "metadata": {},
   "source": [
    "## 1 . Monthly Charges"
   ]
  },
  {
   "cell_type": "code",
   "execution_count": null,
   "id": "f1287f10",
   "metadata": {
    "scrolled": true
   },
   "outputs": [],
   "source": [
    "#Creating  beeswarm plots  using catplot of seaborn to visualize the distribution of monthly charges among two groups categorized by churn (Yes or No):\n",
    "fig1 = plt.figure(figsize=(7, 5))\n",
    "g = sns.catplot(data=telco_data, x=\"Churn\", y=\"MonthlyCharges\", hue= \"Churn\", kind =\"swarm\")\n",
    "g.fig.suptitle(\"Distribution of monthly charges among two groups categorized by churn (Yes or No)\")\n",
    "\n",
    "#saving the figure to local repository\n",
    "g.savefig(\"../Project-1/Output/fig1.png\")\n",
    "plt.show()"
   ]
  },
  {
   "cell_type": "markdown",
   "id": "533372b2",
   "metadata": {},
   "source": [
    "### Graphical Analysis"
   ]
  },
  {
   "cell_type": "markdown",
   "id": "393085f2",
   "metadata": {},
   "source": [
    "- Based on the bee swarm plots above, we can see that both categories have a substantial number of data points, indicating variability in monthly charges among both categories of customers.\n",
    "- Yes' category (customers who have churned) is more spread out with a significant portion of data points at the higher end of the monthly charges. The 'Yes' churn group has a broader distribution, indicating a wider variation of monthly charges among churned customers, and possibly a correlation between higher charges and the likelihood to churn.\n",
    "- On the other hand, The 'No' churn group shows a high density of points tightly distributed approximately in the $50 -$110 range, indicating that most customers who didnt not churn pay a monthly charge within that range. This implies a potential threshold range for monthly charges that could be associated with customer retention.\n",
    "- Based on this output, the company might consider investigating further into what additional factors contribute to churn, especially for those customers paying higher monthly charges. \n",
    "\n"
   ]
  },
  {
   "cell_type": "markdown",
   "id": "99ed0586",
   "metadata": {},
   "source": []
  },
  {
   "cell_type": "code",
   "execution_count": null,
   "id": "503620bb",
   "metadata": {
    "scrolled": true
   },
   "outputs": [],
   "source": [
    "## Distribution of Monthly Charges by Churn Status\n",
    "fig2, (ax1, ax2) = plt.subplots(1, 2, sharex=True,figsize=(10, 6))\n",
    "sns.histplot(telco_data[telco_data.Churn==\"Yes\"][\"MonthlyCharges\"], bins=20, ax=ax1)\n",
    "sns.histplot(telco_data[telco_data.Churn==\"No\"][\"MonthlyCharges\"], bins=20,ax=ax2)\n",
    "ax1.set_title(\"Churned counts vs Monthly Charges ($)\")\n",
    "ax2.set_title(\"Retained counts vs Monthly charges ($)\")\n",
    "ax1.set_ylim(0,1200)\n",
    "ax2.set_ylim(0,1200)\n"
   ]
  },
  {
   "cell_type": "code",
   "execution_count": null,
   "id": "70e64a2e",
   "metadata": {},
   "outputs": [],
   "source": [
    "print(f\"\"\"Mean of monthly charges for churned customer >> {telco_data[telco_data.Churn==\"Yes\"][\"MonthlyCharges\"].mean()}\n",
    "and Mean of monthly charges for retained customer >> {telco_data[telco_data.Churn==\"No\"][\"MonthlyCharges\"].mean()}\"\"\")\n",
    "\n",
    "#saving the figure to local repository\n",
    "fig2.savefig(\"../Project-1/Output/fig2.png\")"
   ]
  },
  {
   "cell_type": "markdown",
   "id": "47b99ebb",
   "metadata": {},
   "source": [
    "### Graphical Analysis"
   ]
  },
  {
   "cell_type": "markdown",
   "id": "3a4dbabe",
   "metadata": {},
   "source": [
    "- Based on the histogram visualization, after comparing the distribution of monthly charges for churned vs. retained customers, we find that he distribution of monthly charges for churned customers is shifted towards higher values compared to retained customers.Besides the histograms, difference between the mean monthly charges for the two groups, `(churned)$74.44 > $61.27(Retained)` also suggests that. This indicates churned customers tend to have higher monthly charges on average.\n",
    "- Also, we can see that most customers who churned have the monthly charges between approx.` $ 70-$ 80`, whereas most retained customers are between the monthly charges of `$ 15-$ 30` which we can see by the tallest bar in the second chart.These peak frequencies for each customer group, churned and retained group allow us to visually see the typical or most common monthly charges value for each customer group.In summary, we can say that churned customers tend to have higher monthly charges on average than retained customers, which makes sense as many customers may have prefered the lower monthly charges and decided to retain their service and as the monthly charges rate goes higher, retention rate also significantly fell down suggesting less customers are being retained at higher monthly charges."
   ]
  },
  {
   "cell_type": "code",
   "execution_count": null,
   "id": "e4330163",
   "metadata": {},
   "outputs": [],
   "source": [
    "#calculating median of churned and retained customers\n",
    "print(f\"\"\"Median of monthly charges for churned customer >> {telco_data[telco_data.Churn==\"Yes\"][\"MonthlyCharges\"].median()}\n",
    "and Median of monthly charges for retained customer >> {telco_data[telco_data.Churn==\"No\"][\"MonthlyCharges\"].median()}\"\"\")\n"
   ]
  },
  {
   "cell_type": "code",
   "execution_count": null,
   "id": "0f34258a",
   "metadata": {
    "scrolled": true
   },
   "outputs": [],
   "source": [
    "#creating boxplots of churned and retained customers \n",
    "fig3, (ax1, ax2) = plt.subplots(1, 2, sharex=True,figsize=(12, 6))\n",
    "# For churned customers\n",
    "sns.boxplot(telco_data[telco_data[\"Churn\"] == \"Yes\"], y=\"MonthlyCharges\", color='red', ax=ax1)\n",
    "\n",
    "# For retained customers\n",
    "sns.boxplot(telco_data[telco_data[\"Churn\"] == \"No\"], y=\"MonthlyCharges\", color='blue', ax=ax2)\n",
    "ax1.set_title(\"Distribution of Monthly Charges - Churned Customers\")\n",
    "ax2.set_title(\"Distribution of Monthly Charges - Retained Customers\")\n",
    "ax1.set_xlabel('Churn \"Yes\"')\n",
    "ax1.set_ylabel('Monthly Charges ($)')\n",
    "ax2.set_xlabel('Churn \"No\"')\n",
    "ax2.set_ylabel('Monthly Charges ($)')\n",
    "fig3.suptitle('Monthly Charges by Churn Status', fontsize=18)\n",
    "ax1.legend([\"Median\"]) \n",
    "ax2.legend([\"Median\"])\n",
    "\n",
    "#saving the figure to local repository\n",
    "fig3.savefig(\"../Project-1/Output/fig3.png\")"
   ]
  },
  {
   "cell_type": "code",
   "execution_count": null,
   "id": "c1b144ad",
   "metadata": {
    "scrolled": true
   },
   "outputs": [],
   "source": [
    "#Finding statistical numbers of customers who churned with respect to Monthly charges\n",
    "telco_data[telco_data.Churn==\"Yes\"][\"MonthlyCharges\"].describe()\n"
   ]
  },
  {
   "cell_type": "code",
   "execution_count": null,
   "id": "6052542c",
   "metadata": {},
   "outputs": [],
   "source": [
    "##Finding statistical numbers of customers who churned with respect to Monthly charges\n",
    "telco_data[telco_data.Churn==\"No\"][\"MonthlyCharges\"].describe()"
   ]
  },
  {
   "cell_type": "markdown",
   "id": "faff779f",
   "metadata": {},
   "source": [
    "### Graphical analysis"
   ]
  },
  {
   "cell_type": "markdown",
   "id": "d2e8b6f0",
   "metadata": {},
   "source": [
    "- The median monthly charge is higher for churned customers `($79.65)` compared to retained customers `($64.43)`. This reinforces the idea that higher monthly costs are associated with increased churn risk.\n",
    "- Whereas the lower median monthly charge for retained customers than churned customers, suggests that **lower monthly charges could be associated with customer retention**.\n",
    "- Also ,there are **no evident outliers** in both groups, churned and retained customers , which suggests that both churned and retained customers' monthly charges are fairly consistent within the observed range.\n",
    "- These observations could provide valuable insights into how pricing strategies might affect customer churn and retention. A business could look into further analyzing these trends to develop targeted customer retention strategies based on pricing models.\n",
    "- With the boxplots above, we can observe that The IQR for retained customers is greater than the IQR for churned customers, which indicates there is more variability in the monthly charges for retained customers compared to churned customers.With a smaller IQR, we can say that monthly charges for churned customers are more concentrated around the median value. Whereas,for retained customers, the monthly charges are more spread out over a wider range between Q1 and Q3, as evidenced by the larger IQR. \n",
    "- In summary, more variability in the monthly charges of retained customers suggests regarding pricing flexibility and customization helps retain customers across diverse price points and tolerance levels.**This could indicate the company's pricing and discounts are working well to retain customers across varying price points - from low to high monthly charges.Offering a wide range of customized plans and promotions may allow the company to appeal to and retain customers with diverse needs.**\n",
    "\n",
    "\n",
    "\n"
   ]
  },
  {
   "cell_type": "code",
   "execution_count": null,
   "id": "2f312d00",
   "metadata": {},
   "outputs": [],
   "source": [
    "telco_data.head(5)"
   ]
  },
  {
   "cell_type": "code",
   "execution_count": null,
   "id": "99cb7b86",
   "metadata": {},
   "outputs": [],
   "source": [
    "# Calculate the correlation coefficient between 'MonthlyCharges' and 'Churn_numeric'\n",
    "cor_monthly_churn = telco_data['MonthlyCharges'].corr(telco_data['churn_numeric'])\n",
    "cor_monthly_churn"
   ]
  },
  {
   "cell_type": "markdown",
   "id": "3a2d6010",
   "metadata": {},
   "source": [
    "### Analysis"
   ]
  },
  {
   "cell_type": "markdown",
   "id": "e4021c39",
   "metadata": {},
   "source": [
    "In order to measure and understand the strength and direction of the linear relationship between \"Churn\" and \"Monthly charges\", we should calculate correlation coefficient of the two variables.\n",
    "\n",
    "Given the **correlation coefficient of approximately 0.193, this indicates a weak positive relationship between 'MonthlyCharges' and 'churn_numeric'** in the dataset. This suggests that higher monthly charges might be slightly associated with a greater likelihood of churn, but the relationship is not strong. It is also important to note that **correlation does not imply causation**, and other factors could be influencing the churn rate. Additionally, the value is low enough that it would not be considered a strong predictor without further analysis and possibly additional data to support the finding.\n",
    "\n",
    "\n",
    "\n",
    "\n"
   ]
  },
  {
   "cell_type": "markdown",
   "id": "f6ee4802",
   "metadata": {},
   "source": [
    "## 2. Gender"
   ]
  },
  {
   "cell_type": "code",
   "execution_count": null,
   "id": "fdba2c41",
   "metadata": {
    "scrolled": true
   },
   "outputs": [],
   "source": [
    "# Distribution of both gender in telco dataset\n",
    "plt.figure(figsize=(5,3))\n",
    "telco_gender = sns.countplot(data=telco_data, x= \"gender\")\n",
    "plt.xlabel('gender')\n",
    "plt.ylabel('Count')\n",
    "plt.title(\"Distribution of gender in telco dataset\")\n",
    "# Saving the figure. Specifing the desired file path and name.\n",
    "plt.savefig('../Project-1/Output/fig4.png')\n",
    "\n",
    "# Show the plot\n",
    "plt.show()\n"
   ]
  },
  {
   "cell_type": "code",
   "execution_count": null,
   "id": "0f17564c",
   "metadata": {},
   "outputs": [],
   "source": [
    "#Finding the male and female percentages in a gender column\n",
    "male_female_num= telco_data[\"gender\"].value_counts()\n",
    "male_female_num\n",
    "\n",
    "male_female_num.plot(kind=\"pie\",autopct='%1.1f%%', figsize=(6, 6))\n",
    "\n",
    "# Add a title\n",
    "plt.title('Male and Female number')\n",
    "plt.ylabel(\"gender\")\n",
    "labels = male_female_num.index\n",
    "plt.pie(male_female_num,labels=labels)\n",
    "plt.legend(labels,loc=\"best\")\n",
    "\n",
    "#Saving the figure. Specifing the desired file path and name.\n",
    "plt.savefig('../Project-1/Output/fig5.png')\n",
    "\n",
    "plt.show()"
   ]
  },
  {
   "cell_type": "code",
   "execution_count": null,
   "id": "062d87ab",
   "metadata": {},
   "outputs": [],
   "source": [
    "# Creating count plot using seaborn to understand the churning behavior of each gender group\n",
    "gender_churn= pd.crosstab(telco_data[\"gender\"], telco_data[\"Churn\"])\n",
    "sns.countplot(x='gender', hue='Churn', data=telco_data)\n",
    "plt.title(\"Churning behavior of each gender group\")\n",
    "#Saving the figure. Specifing the desired file path and name.\n",
    "plt.savefig('../Project-1/Output/fig6.png')\n",
    "\n",
    "#Show the plot\n",
    "plt.show()"
   ]
  },
  {
   "cell_type": "code",
   "execution_count": null,
   "id": "38752f2e",
   "metadata": {},
   "outputs": [],
   "source": [
    "gender_churn"
   ]
  },
  {
   "cell_type": "code",
   "execution_count": null,
   "id": "80a3cad9",
   "metadata": {},
   "outputs": [],
   "source": [
    "# Grouping by 'gender' and calculating mean churn rate for each gender\n",
    "gender_churn_rate = telco_data.groupby('gender')['churn_numeric'].mean()\n",
    "\n",
    "# Plotting the churn rate by gender\n",
    "gender_churn_rate.plot(kind='bar', color=['blue', 'orange'])\n",
    "plt.title('Churn Rate by Gender')\n",
    "plt.xlabel('Gender')\n",
    "plt.ylabel('Average Churn Rate')\n",
    "plt.xticks(rotation=0)  # Keeping the gender labels horizontal for readability\n",
    "\n",
    "print(gender_churn_rate)   \n",
    "# Saving the figure. Specifing the desired file path and name.\n",
    "plt.savefig('../Project-1/Output/fig7.png')\n",
    "\n",
    "# Show the plot\n",
    "plt.show()\n",
    "\n",
    "                              "
   ]
  },
  {
   "cell_type": "markdown",
   "id": "22460817",
   "metadata": {},
   "source": [
    "### Analysis"
   ]
  },
  {
   "cell_type": "markdown",
   "id": "6b82230b",
   "metadata": {},
   "source": [
    "- Here we found that 50.5% are male and 49.5% are female in the dataset, which is almost the same count of both genders and out of all those genders participating in this data study, we found that the churn rate for female and male is  `0.27(approx.) and 0.26 (approx)` respectively  which is 27% for female and 26% for male, suggesting that the churn rate for both genders is almost identical which can be visualized by the both bars which are relatively close in height.\n",
    "- It indicates that **gender might not be a strong standalone predictor of churn in this instance**, given the similarity in the rates. However, it's always important to consider other factors and conduct a more in-depth analysis to understand the underlying causes of churn fully."
   ]
  },
  {
   "cell_type": "markdown",
   "id": "a3dd24b5",
   "metadata": {},
   "source": [
    "## 3. Streaming TV Services"
   ]
  },
  {
   "cell_type": "code",
   "execution_count": null,
   "id": "6230106b",
   "metadata": {},
   "outputs": [],
   "source": [
    "#Finding the percentages of all the three categories of streaming TV service.\n",
    "streaming_Percentage = telco_data[\"StreamingTV\"].value_counts()\n",
    "streaming_Percentage\n",
    "\n",
    "streaming_Percentage.plot(kind=\"pie\",autopct='%1.1f%%', figsize=(6, 6))\n",
    "\n",
    "# Add a title\n",
    "plt.title('Streaming TV Categories')\n",
    "plt.ylabel(\"Streaming TV\")\n",
    "labels = streaming_Percentage.index\n",
    "plt.pie(streaming_Percentage,labels=labels)\n",
    "plt.legend(labels,loc=\"upper left\")\n",
    "\n",
    "#Saving the figure. Specifing the desired file path and name.\n",
    "plt.savefig('../Project-1/Output/fig8.png')\n",
    "\n",
    "plt.show()"
   ]
  },
  {
   "cell_type": "code",
   "execution_count": null,
   "id": "6ba95256",
   "metadata": {},
   "outputs": [],
   "source": [
    "#Distribution of churn across the three categories of streaming TV service\n",
    "streaming_churn= pd.crosstab(telco_data[\"StreamingTV\"], telco_data[\"Churn\"])\n",
    "sns.countplot(x='StreamingTV', hue='Churn', data=telco_data)\n",
    "plt.title(\"Churn counts across three categories of Streaming TV Service\")\n",
    "\n",
    "# Saving the figure. Specifing the desired file path and name.\n",
    "plt.savefig('../Project-1/Output/fig9.png')\n",
    "\n",
    "# Show the plot\n",
    "plt.show()\n"
   ]
  },
  {
   "cell_type": "code",
   "execution_count": null,
   "id": "c35651d1",
   "metadata": {},
   "outputs": [],
   "source": [
    "streaming_churn"
   ]
  },
  {
   "cell_type": "code",
   "execution_count": null,
   "id": "4df1bb96",
   "metadata": {
    "scrolled": true
   },
   "outputs": [],
   "source": [
    "#calculating the percentage of customers who churned (Yes) out of the total customers for each category in the streaming_churn DataFrame.\n",
    "print(streaming_churn[\"Yes\"] / streaming_churn.sum(axis=1) * 100)"
   ]
  },
  {
   "cell_type": "markdown",
   "id": "637d1680",
   "metadata": {},
   "source": [
    "### Analysis"
   ]
  },
  {
   "cell_type": "markdown",
   "id": "d5484949",
   "metadata": {},
   "source": [
    "- Here we found that people who have  Streaming Tv services and who dont have Streaming Tv services are almost of same amount, which is 38.4% and  39.9% for both respectively.\n",
    "- Also there are more customers **without Streaming TV who churned (942)** compared to those **with Streaming TV (814)** who churned. But in terms of percentages, the rate is only **33.52** % for customers **without Streaming Tv** who churned, and  **30%** of customers **with Streaming Tv** who churned.This tells us that having having Streaming TV corresponds to a small decrease in churn percentage.Likwise, 21.7 % out of all ,are the people without internet service, but very few of them churned (113 out of 1526) , i.e, 7.40%, suggesting Lack of internet appears connected to lower churn rates. This makes sense as these customers with no internet service who didnt churn and are retained as customers may be the one who only uses the tele communication services for phone lines only.  "
   ]
  },
  {
   "cell_type": "markdown",
   "id": "6f7218ac",
   "metadata": {},
   "source": [
    "## 4. Contract"
   ]
  },
  {
   "cell_type": "code",
   "execution_count": null,
   "id": "5353f285",
   "metadata": {},
   "outputs": [],
   "source": [
    "#Finding the percentages of all the three categories of Contract column.\n",
    "contract_percentage = telco_data[\"Contract\"].value_counts()\n",
    "contract_percentage\n",
    "\n",
    "contract_percentage.plot(kind=\"pie\",autopct='%1.1f%%', figsize=(6, 6))\n",
    "\n",
    "# Add a title\n",
    "plt.title('Contract Categories')\n",
    "plt.ylabel(\"Contract\")\n",
    "labels = contract_percentage.index\n",
    "plt.pie(contract_percentage,labels=labels)\n",
    "plt.legend(labels,loc=\"upper right\")\n",
    "\n",
    "#Saving the figure. Specifing the desired file path and name.\n",
    "plt.savefig('../Project-1/Output/fig10.png')\n",
    "\n",
    "plt.show()"
   ]
  },
  {
   "cell_type": "code",
   "execution_count": null,
   "id": "f703add3",
   "metadata": {
    "scrolled": true
   },
   "outputs": [],
   "source": [
    "#Distribution of churn across the all three categories of Contract.\n",
    "contract_churn= pd.crosstab(telco_data[\"Contract\"], telco_data[\"Churn\"])\n",
    "sns.countplot(x='Contract', hue='Churn', data=telco_data)\n",
    "plt.title(\"Churn counts across three categories of Contract\")\n",
    "\n",
    "# Saving the figure. Specifing the desired file path and name.\n",
    "plt.savefig('../Project-1/Output/fig11.png')\n",
    "\n",
    "# Show the plot\n",
    "plt.show()\n"
   ]
  },
  {
   "cell_type": "code",
   "execution_count": null,
   "id": "349109e1",
   "metadata": {},
   "outputs": [],
   "source": [
    "contract_churn"
   ]
  },
  {
   "cell_type": "code",
   "execution_count": null,
   "id": "c09e879d",
   "metadata": {
    "scrolled": true
   },
   "outputs": [],
   "source": [
    "#calculating the percentage of customers who churned (Yes) out of the total customers for each category in the contract_Churn DataFrame.\n",
    "print(contract_churn[\"Yes\"] / contract_churn.sum(axis=1) * 100)"
   ]
  },
  {
   "cell_type": "markdown",
   "id": "5e963faa",
   "metadata": {},
   "source": [
    "### Analysis"
   ]
  },
  {
   "cell_type": "markdown",
   "id": "c385d9fe",
   "metadata": {},
   "source": [
    "- 55% out of all customers in the contract variable has month-to-month contract, wheras customers having one year and two year contract are 20.9% and 24.1% out of all customers counts.\n",
    "- Here we see that customers with a **month-to-month contract have the highest churn rate**. Approximately `42.71%` of customers with a **month-to-month contract have churned**. Whereas customers with **longer contracts (one year and two years)** have significantly **lower churn rates**, with the two-year contract holders being the least likely to churn(2.83%).\n",
    "- Highest month-to-month churn rate could reflect a commitment level or satisfaction with the service.\n",
    "- Other reasons why month to month contract has the highest churn could be, such as unaffordability of services for longer period, end of promotions and trial periods, life changes etc.\n"
   ]
  },
  {
   "cell_type": "markdown",
   "id": "becbd63c",
   "metadata": {},
   "source": [
    "## 5. Internet Services"
   ]
  },
  {
   "cell_type": "code",
   "execution_count": null,
   "id": "46973d24",
   "metadata": {},
   "outputs": [],
   "source": [
    "#Finding the percentages of all the three categories of Internet Service column.\n",
    "int_ser_percentage = telco_data[\"InternetService\"].value_counts()\n",
    "int_ser_percentage\n",
    "int_ser_percentage.plot(kind=\"pie\",autopct='%1.1f%%', figsize=(6, 6))\n",
    "\n",
    "# Add a title\n",
    "plt.title('Internet Service Categories')\n",
    "plt.ylabel(\"InternetService\")\n",
    "labels = int_ser_percentage.index\n",
    "plt.pie(int_ser_percentage,labels=labels)\n",
    "plt.legend(labels,loc=\"center left\")\n",
    "\n",
    "#Saving the figure. Specifing the desired file path and name.\n",
    "plt.savefig('../Project-1/Output/fig12.png')\n",
    "\n",
    "plt.show()"
   ]
  },
  {
   "cell_type": "code",
   "execution_count": null,
   "id": "aff5ebd7",
   "metadata": {},
   "outputs": [],
   "source": [
    "##Distribution of churn across the all three categories of Internet Services.\n",
    "internet_service_churn= pd.crosstab(telco_data[\"InternetService\"], telco_data[\"Churn\"])\n",
    "sns.countplot(x='InternetService', hue='Churn', data=telco_data)\n",
    "plt.title(\"Churn counts across three categories of Internet Services\")\n",
    "# Saving the figure. Specifing the desired file path and name.\n",
    "plt.savefig('../Project-1/Output/fig13.png')\n",
    "\n",
    "# Show the plot\n",
    "plt.show()"
   ]
  },
  {
   "cell_type": "code",
   "execution_count": null,
   "id": "bb1c9913",
   "metadata": {},
   "outputs": [],
   "source": [
    "internet_service_churn"
   ]
  },
  {
   "cell_type": "code",
   "execution_count": null,
   "id": "7478da67",
   "metadata": {
    "scrolled": true
   },
   "outputs": [],
   "source": [
    "##calculating the percentage of customers who churned (Yes) out of the total customers for each category in the internet_service_churn DataFrame.\n",
    "print(internet_service_churn[\"Yes\"] / internet_service_churn.sum(axis=1) * 100)"
   ]
  },
  {
   "cell_type": "markdown",
   "id": "01cf0bec",
   "metadata": {},
   "source": [
    "### Analysis"
   ]
  },
  {
   "cell_type": "markdown",
   "id": "4ae55b3f",
   "metadata": {},
   "source": [
    "- Here we see that most customers (40%) have Fiber Optic as their main Internet Services, whereas the second most used internet service is DSL and remaining 21.7% has no internet service at all.\n",
    "- It is also important to note here that it is also Fiber Optic which has the most churn rate,i.e, 42% which is 1297 counts of churns out of 3096 total Fiber optic customers.\n",
    "- Customers with No internet service have the lowest churn rate at only 7% ,which is 113 counts of churns out of 1526 customers with no internet service.\n",
    "- This suggests issues around fiber optic services driving churn, or customers getting fiber, expecting faster speeds but being disappointed.The provider could focus on improving fiber optic performance and customer satisfaction to reduce the high churn.\n",
    "- Overall, internet service type seems correlated with likelihood to churn. Improving fiber optic satisfaction and analyzing the root causes of dissatisfaction among fiber optic customers could reveal ways to improve retention.**"
   ]
  },
  {
   "cell_type": "code",
   "execution_count": null,
   "id": "557228c9",
   "metadata": {},
   "outputs": [],
   "source": [
    "telco_data.head(5)"
   ]
  },
  {
   "cell_type": "markdown",
   "id": "d966aed7",
   "metadata": {},
   "source": [
    "## 6. Senior Citizens Status"
   ]
  },
  {
   "cell_type": "code",
   "execution_count": null,
   "id": "76bb0617",
   "metadata": {
    "scrolled": true
   },
   "outputs": [],
   "source": [
    "#Finding the percentages of Senior citizens in the senior citizens columns\n",
    "senior__churn_percentage = telco_data[\"SeniorCitizen\"].value_counts()\n",
    "senior__churn_percentage\n",
    "senior__churn_percentage.plot(kind=\"pie\",autopct='%1.1f%%', figsize=(6, 6))\n",
    "\n",
    "# Add a title\n",
    "plt.title('SeniorCitizen Yes(1) or No (0)')\n",
    "plt.ylabel(\"Senior Citizen\")\n",
    "labels = senior__churn_percentage.index\n",
    "plt.pie(senior__churn_percentage,labels=labels)\n",
    "plt.legend(labels,loc=\"center left\")\n",
    "\n",
    "#Saving the figure. Specifing the desired file path and name.\n",
    "plt.savefig('../Project-1/Output/fig14.png')\n",
    "\n",
    "plt.show()"
   ]
  },
  {
   "cell_type": "code",
   "execution_count": null,
   "id": "66cf79cf",
   "metadata": {},
   "outputs": [],
   "source": [
    "##Distribution of churn in respect to being Senior Citizen\n",
    "Senior_churn= pd.crosstab(telco_data[\"SeniorCitizen\"], telco_data[\"Churn\"])\n",
    "sns.countplot(x='SeniorCitizen', hue='Churn', data=telco_data)\n",
    "plt.title('Churning tendency of Senior Citizen , 0 = \"No\", 1 = \"Yes\"')\n",
    "\n",
    "# Saving the figure. Specifing the desired file path and name.\n",
    "plt.savefig('../Project-1/Output/fig15.png')\n",
    "\n",
    "# Show the plot\n",
    "plt.show()"
   ]
  },
  {
   "cell_type": "code",
   "execution_count": null,
   "id": "3fcf84b8",
   "metadata": {},
   "outputs": [],
   "source": [
    "Senior_churn"
   ]
  },
  {
   "cell_type": "code",
   "execution_count": null,
   "id": "eec5c209",
   "metadata": {
    "scrolled": true
   },
   "outputs": [],
   "source": [
    "##calculating the percentage of customers who churned (Yes) out of the total customers for each category in the senior_churn DataFrame.\n",
    "print(Senior_churn[\"Yes\"] / Senior_churn.sum(axis=1) * 100)"
   ]
  },
  {
   "cell_type": "code",
   "execution_count": null,
   "id": "fd83c97b",
   "metadata": {},
   "outputs": [],
   "source": [
    "# Calculating the correlation coefficient between 'SeniorCitizen' and 'Churn_numeric'\n",
    "cor_Senior_churn = telco_data['SeniorCitizen'].corr(telco_data['churn_numeric'])\n",
    "cor_Senior_churn"
   ]
  },
  {
   "cell_type": "markdown",
   "id": "c96201bc",
   "metadata": {},
   "source": [
    "### Analysis"
   ]
  },
  {
   "cell_type": "markdown",
   "id": "e288ea00",
   "metadata": {},
   "source": [
    "- Non-seniors (under 65 years old) are in lot more counts in the churning side of the dataset, however; Senior citizens (65+ years old) are notably churning at a higher rate (41.68%) than non-senior citizens (23.61%). The churn rate is almost double for senior citizens versus non-seniors even though seniors are only 16.2% of the total customers in the dataset.\n",
    "- The smaller number of senior citizens in the dataset could mean we didn’t collect enough data from the senior citizen population, while their higher churning rate suggests that they may need additional retention efforts, special offers, or customized service to reduce their churn rate.\n",
    "-  However, the value of (approx.) 0.15 of the correlation coefficient indicates a weak but positive correlation between being a senior citizen and churning, suggesting that there are other factors that may be more responsible for the customers' churning behavior.\n"
   ]
  },
  {
   "cell_type": "markdown",
   "id": "362fe844",
   "metadata": {},
   "source": [
    "## 7. Tenure"
   ]
  },
  {
   "cell_type": "code",
   "execution_count": null,
   "id": "0f7789e1",
   "metadata": {},
   "outputs": [],
   "source": [
    "# Calculating the correlation coefficient between 'Tenure' and 'Churn_numeric'\n",
    "cor_tenure_churn = telco_data['tenure'].corr(telco_data['churn_numeric'])\n",
    "cor_tenure_churn"
   ]
  },
  {
   "cell_type": "markdown",
   "id": "231990d8",
   "metadata": {},
   "source": [
    "### Analysis"
   ]
  },
  {
   "cell_type": "markdown",
   "id": "04c5d1e7",
   "metadata": {},
   "source": [
    "- As expected, there is a moderately negative correlation between customer tenure and churn, which basically means longer-tenured customers are less prone to churn, while newer customers have higher churn rates.\n",
    "- This aligns with common knowledge in many subscription businesses - newer customers are more prone to churn before they establish loyalty."
   ]
  },
  {
   "cell_type": "markdown",
   "id": "62d84c94",
   "metadata": {},
   "source": [
    "## 8. Total Charges"
   ]
  },
  {
   "cell_type": "code",
   "execution_count": null,
   "id": "83a569f8",
   "metadata": {},
   "outputs": [],
   "source": [
    "#checking data type of total charges\n",
    "telco_data[\"TotalCharges\"].dtype"
   ]
  },
  {
   "cell_type": "code",
   "execution_count": null,
   "id": "55a088d3",
   "metadata": {},
   "outputs": [],
   "source": [
    "#Confirming all the numerical columns\n",
    "numerical_columns"
   ]
  },
  {
   "cell_type": "code",
   "execution_count": null,
   "id": "f7cd65f3",
   "metadata": {},
   "outputs": [],
   "source": [
    "# convert the 'TotalCharges' column to a numerical data type \n",
    "telco_data['TotalCharges'] = pd.to_numeric(telco_data['TotalCharges'], errors='coerce')"
   ]
  },
  {
   "cell_type": "code",
   "execution_count": null,
   "id": "43c9d872",
   "metadata": {},
   "outputs": [],
   "source": [
    "##checking data type of total charges again\n",
    "telco_data[\"TotalCharges\"].dtype"
   ]
  },
  {
   "cell_type": "code",
   "execution_count": null,
   "id": "bb66a04e",
   "metadata": {},
   "outputs": [],
   "source": [
    "#Finding statistical numbers of customers who churned with respect to Totalcharges\n",
    "telco_data[telco_data.Churn==\"Yes\"][\"TotalCharges\"].describe()\n"
   ]
  },
  {
   "cell_type": "code",
   "execution_count": null,
   "id": "6bc6a9b2",
   "metadata": {
    "scrolled": true
   },
   "outputs": [],
   "source": [
    "#Finding statistical numbers of customers who didnt churn with respect to Totalcharges\n",
    "telco_data[telco_data.Churn==\"No\"][\"TotalCharges\"].describe()\n"
   ]
  },
  {
   "cell_type": "code",
   "execution_count": null,
   "id": "29e5613a",
   "metadata": {
    "scrolled": true
   },
   "outputs": [],
   "source": [
    "#creating boxplots of churned and retained customers \n",
    "fig16, (ax1, ax2) = plt.subplots(1, 2, sharex=True,figsize=(12, 6))\n",
    "# For churned customers\n",
    "sns.boxplot(telco_data[telco_data[\"Churn\"] == \"Yes\"], y=\"TotalCharges\", color='red', ax=ax1)\n",
    "\n",
    "# For retained customers\n",
    "sns.boxplot(telco_data[telco_data[\"Churn\"] == \"No\"], y=\"TotalCharges\", color='blue', ax=ax2)\n",
    "ax1.set_title(\"Distribution of TotalCharges - Churned Customers\")\n",
    "ax2.set_title(\"Distribution of TotalCharges - Retained Customers\")\n",
    "ax1.set_xlabel('Churn \"Yes\"')\n",
    "ax1.set_ylabel('Total Charges ($)')\n",
    "ax2.set_xlabel('Churn \"No\"')\n",
    "ax2.set_ylabel('Total Charges ($)')\n",
    "fig3.suptitle('Total Charges by Churn Status', fontsize=18)\n",
    "ax1.legend([\"Median\"]) \n",
    "ax2.legend([\"Median\"])\n",
    "\n",
    "#saving the figure to local repository\n",
    "fig16.savefig(\"../Project-1/Output/fig16.png\")"
   ]
  },
  {
   "cell_type": "markdown",
   "id": "89c6f9a6",
   "metadata": {},
   "source": [
    "### Graphical Analysis"
   ]
  },
  {
   "cell_type": "markdown",
   "id": "786de207",
   "metadata": {},
   "source": [
    "- Here, for churned customers, the median total charges are lower compared to retained customers ($ 703.55 < $ 1683.60).\n",
    "- The interquartile range (IQR), represented by the length of the boxes, seems to be wider for retained customers, suggesting more variability in the total charges among customers who have not churned.\n",
    "- The significant presence of outliers among churned customers suggests that while the median total charge is lower, there are still a number of churned customers who had very high total charges.While the absence of outliers in the retained customer box plot suggests a more uniform distribution of total charges without extreme values.\n",
    "- Since churned customers have a wider range of total charges with outliers indicating some high values, the business might want to investigate why customers with high total charges are leaving and address those reasons to improve retention.\n",
    "- The more consistent range of total charges among retained customers could indicate that customers within a certain range of spending are more likely to stay, which could be a sign of stable usage patterns and satisfaction with the service among these customers, possibly because they find the services to be of good value or due to the costs associated with switching to another provider."
   ]
  },
  {
   "cell_type": "code",
   "execution_count": null,
   "id": "e579712d",
   "metadata": {},
   "outputs": [],
   "source": [
    "# Calculating the correlation coefficient between 'TotalCharges' and 'Churn_numeric'\n",
    "cor_TotCharge_churn = telco_data['TotalCharges'].corr(telco_data['churn_numeric'])\n",
    "cor_TotCharge_churn"
   ]
  },
  {
   "cell_type": "markdown",
   "id": "8aee01cb",
   "metadata": {},
   "source": [
    "## Analysis"
   ]
  },
  {
   "cell_type": "markdown",
   "id": "c37d2aaf",
   "metadata": {},
   "source": [
    "- Here, the correlation coefficient of (aprrox.) -0.1995 between 'TotalCharges' and 'Churn_numeric', suggests an inverse/negative relationship which means, as TotalCharges increase, Churning behavior tends to decrease. However, the coefficient is quite small closer to 0 than -1 . .\n",
    "- This signals a very weak correlation between the two variables, indicating TotalCharges has minor predictive value for churn overall."
   ]
  },
  {
   "cell_type": "markdown",
   "id": "6e1464b3",
   "metadata": {},
   "source": [
    "- For the business, this chart could indicate the need to review pricing strategies, especially for higher-priced service tiers, which might be causing higher churn rates. It could suggest that customers find better value or more competitive rates elsewhere as their costs increase.The company could use this information to investigate if certain service tiers are priced correctly or if they need to add additional value to their services to retain customers at higher charge brackets.\n",
    "- These observations provide a quantitative basis for decision-making but should be complemented with qualitative insights from customer feedback and market research to develop a more rounded customer retention strategy.\n",
    "\n",
    "\n",
    "\n",
    "\n",
    "\n"
   ]
  },
  {
   "cell_type": "markdown",
   "id": "d7d66836",
   "metadata": {},
   "source": [
    "## Monthly Charges re-evaluation"
   ]
  },
  {
   "cell_type": "code",
   "execution_count": null,
   "id": "87a39bce",
   "metadata": {},
   "outputs": [],
   "source": [
    "#Creating bins for monthly charges to understand the churning behavior with different variable under certain monthly charge bin\n",
    "monthlyCharge_bins =[0, 20, 30,40,50,60,70,80,90,100,110,120 ]\n",
    "#labels = [\"<=$20\",\"$20-$30\",\"$30-$40\",\"$40-$50\",\"$50-$60\",\"$60-$70\",\"$70-$80\",\"$80-$90\",\"$90-$100\",\"$100-$110\",\"$110-$120\"]\n",
    "monthlyCharge_bins"
   ]
  },
  {
   "cell_type": "code",
   "execution_count": null,
   "id": "bcf51360",
   "metadata": {},
   "outputs": [],
   "source": [
    "pd.cut(telco_data[\"MonthlyCharges\"], monthlyCharge_bins)"
   ]
  },
  {
   "cell_type": "code",
   "execution_count": null,
   "id": "56d6fff8",
   "metadata": {},
   "outputs": [],
   "source": [
    "telco_data[\"monthly_charge_bin\"] = pd.cut(telco_data[\"MonthlyCharges\"], monthlyCharge_bins, right=False)"
   ]
  },
  {
   "cell_type": "code",
   "execution_count": null,
   "id": "1a294499",
   "metadata": {},
   "outputs": [],
   "source": [
    "telco_data.head(10)"
   ]
  },
  {
   "cell_type": "code",
   "execution_count": null,
   "id": "bddd515e",
   "metadata": {},
   "outputs": [],
   "source": [
    "#Grouping by \"monthly_charge_bin\" and calculating the mean of numeric columns\n",
    "average_bymonthlycharge_grouped_df = telco_data.groupby(\"monthly_charge_bin\").mean(numeric_only=True)\n",
    "average_bymonthlycharge_grouped_df"
   ]
  },
  {
   "cell_type": "code",
   "execution_count": null,
   "id": "6497bbe4",
   "metadata": {},
   "outputs": [],
   "source": [
    "# Convert 'SeniorCitizen' & \"churn_numeric\" to percentages for better understanding\n",
    "avg_Senior_churn_df_per = average_bymonthlycharge_grouped_df[[\"SeniorCitizen\", \"churn_numeric\"]] * 100\n",
    "\n",
    "# The resulting 'df_percentage' DataFrame will have all the values converted to percentages.\n",
    "avg_Senior_churn_df_per"
   ]
  },
  {
   "cell_type": "markdown",
   "id": "7d4b3ef9",
   "metadata": {},
   "source": [
    "## Analysis"
   ]
  },
  {
   "cell_type": "markdown",
   "id": "21619f32",
   "metadata": {},
   "source": [
    "Based on the the above summary table showing customer statistics segmented into bins based on monthly charge amount, we can find the following observations:\n",
    "- Monthly charge bins: Divides customers into bins based on their monthly charges amount.\n",
    "- SeniorCitizen: Proportion of senior citizens in each bin. Generally increasing with higher monthly charges.Here, we found that Senior customers skew towards higher monthly charges.\n",
    "- Tenure: Average tenure increases in the higher monthly charge bins. Higher paying customers tend to have longer tenure.\n",
    "- MonthlyCharges: Average monthly charges per bin .\n",
    "- TotalCharges: Average total charges increases with monthly charge bin. Makes sense as higher monthly charges paying customers have higher total spending.\n",
    "- churn_numeric: Churn rate peaks in the middle bins, and is lower for the lowest and highest bins. \n",
    "- In summary, we found that average monthly spending customers which falls in the range of `$70 - $100` have churned the most, while low and high spending customers churn less. And if closely pay attention, we will see that not only the churn rate is lowest at `$ <20` bin which is only `8.97 %.`\n",
    "- our fig2. has also pointed us that customers who are in the monthly charge bin around `$20` has the highest retention rate.This totally makes sense as many people may have chosen to stay in the most affordable  services which is less than $ 20. \n",
    "- However, there is also notably lower churn rate in the range of `$110 - $ 120`, which could be due to possibly due to a perceived higher value or satisfaction with the service they are receiving,higher charges could be associated with premium or bundled services,hefty cancellation fees,better or more personalized customer service, There might be fewer competitive options available for the specific services that these customers are using, resulting in lower churn due to a lack of better alternatives. Also, the lower churn rate in this particular range could be due to a combination of the above factors rather than any single reason."
   ]
  },
  {
   "cell_type": "code",
   "execution_count": null,
   "id": "24adef36",
   "metadata": {},
   "outputs": [],
   "source": [
    "# Scatter plot for 'churn_numeric' vs 'MonthlyCharges'\n",
    "plt.figure(figsize=(10, 6))\n",
    "plt.scatter(average_bymonthlycharge_grouped_df['MonthlyCharges'],average_bymonthlycharge_grouped_df['churn_numeric'], color='blue')\n",
    "plt.title('Scatter Plot of Churn Rate vs Monthly Charges')\n",
    "plt.xlabel('Monthly Charges')\n",
    "plt.ylabel('Churn Rate (%)')\n",
    "plt.grid(True)\n",
    "# Saving the figure. Specifing the desired file path and name.\n",
    "plt.savefig('../Project-1/Output/fig17.png')\n",
    "\n",
    "# Show the plot\n",
    "plt.show()\n"
   ]
  },
  {
   "cell_type": "code",
   "execution_count": null,
   "id": "7cd8679c",
   "metadata": {},
   "outputs": [],
   "source": [
    "# Add the linear regression equation and line to plots\n",
    "x_values = average_bymonthlycharge_grouped_df['MonthlyCharges']\n",
    "y_values = average_bymonthlycharge_grouped_df['churn_numeric']\n",
    "(slope, intercept, rvalue, pvalue, stderr) = linregress(x_values, y_values)\n",
    "regress_values = x_values * slope + intercept\n",
    "line_eq = f\"y = {round(slope, 2)}x + {round(intercept, 2)}\"  \n",
    "plt.scatter(x_values,y_values)\n",
    "plt.plot(x_values,regress_values,\"r-\")\n",
    "plt.xlabel('Monthly Charges')\n",
    "plt.ylabel('Churn Rate %')\n",
    "plt.annotate(line_eq, (5.8, 0.8), fontsize=15, color=\"red\")\n",
    "plt.legend([line_eq], loc =\"best\")\n",
    "print(f\"The r-squared is: {rvalue**2}\")\n",
    "\n",
    "# Saving the figure. Specifing the desired file path and name.\n",
    "plt.savefig('../Project-1/Output/fig18.png')\n",
    "\n",
    "# Show the plot\n",
    "plt.show()"
   ]
  },
  {
   "cell_type": "code",
   "execution_count": null,
   "id": "d966af1d",
   "metadata": {},
   "outputs": [],
   "source": [
    "# Calculating the correlation coefficient between 'MonthlyCharges' and 'Churn_numeric'\n",
    "cor_MonCharge_churn = telco_data['MonthlyCharges'].corr(telco_data['churn_numeric'])\n",
    "cor_MonCharge_churn"
   ]
  },
  {
   "cell_type": "markdown",
   "id": "e36a3331",
   "metadata": {},
   "source": [
    "## Analysis"
   ]
  },
  {
   "cell_type": "markdown",
   "id": "4ddd5249",
   "metadata": {},
   "source": [
    "- Based on the R-squared value of approximately 0.212 from the scatter plot and linear regression analysis, there is a moderate positive relationship between monthly charges and churn rate. As the monthly charges increase, the churn rate also tends to increase, suggesting higher prices may lead to higher churn. However, The linear regression model explains only about 21% of the variance in churn rate. This indicates that monthly charges are a factor in churn, but not the only or most significant one.\n",
    "- The other 78.8% of the variation is due to other factors.\n",
    "- Also, the correlation coefficient of approximately 0.193 for 'MonthlyCharges' and 'Churn_numeric' indicates a weak positive linear relationship between the two variables. This suggests that as monthly charges increase, there is a slightly higher likelihood of churn, although the relationship is not strong."
   ]
  },
  {
   "cell_type": "markdown",
   "id": "c9dbe42b",
   "metadata": {},
   "source": [
    "# Conclusion"
   ]
  },
  {
   "attachments": {},
   "cell_type": "markdown",
   "id": "7d98ea5c",
   "metadata": {},
   "source": [
    "- **With respect to \"Monthly charges\"**:\n",
    "   There could be other factors influencing churn that are not included in the model. These might include customer service quality, contract terms, competitive offers, individual customer preferences, market conditions, and more. The dataset might not be representative of the broader population or might not capture enough historical context to adequately model the churn behavior in terms of monthly charges relationship with churn rate.\n",
    "   While the R-squared value gives an indication of the strength of the relationship, it would also be important to consider the p-value associated with the regression analysis to understand whether the observed relationship is statistically significant.\n",
    "- **With respect to Internet Services Categories:**\n",
    " One relevant factor here that may be affecting churn rate is, Fiber Optic which has the most churn rate,i.e, 42% which is 1297 counts of churns out of 3096 total Fiber optic customers, as shown in my analysis above. This rate suggests issues around fiber optic services driving churn, or customers getting fiber, expecting faster speeds but being disappointed.The provider could focus on improving fiber optic performance and customer satisfaction to reduce the high churn. Overall, internet service type seems correlated with likelihood to churn. Improving fiber optic satisfaction and analyzing the root causes of dissatisfaction among fiber optic customers could reveal ways to improve retention.**\n",
    "\n",
    "- **With respect to Contract categories**:\n",
    "  Another variable that is notably strong factor here is month-to-month contract. As shown in our analysis above,month-to-month contract has the highest churn rate. Approximately 42.71% of customers with a month-to-month contract have churned. Whereas customers with longer contracts (one year and two years) have significantly lower churn rates, with the two-year contract holders being the least likely to churn(2.83%).\n",
    "  Highest month-to-month churn rate could reflect a lowest commitment level or satisfaction with the service.\n",
    "Other reasons why month to month contract has the highest churn could be, such as unaffordability of services for longer period, end of promotions and trial periods, life changes etc.    \n",
    "- **With respect to “Total Charges:”** The significant presence of outliers among churned customers suggests that while the median total charge is lower, several churned customers still have very high total charges. The absence of outliers in the retained customer box plot suggests a more uniform distribution of total charges without extreme values. Since churned customers have a more comprehensive range of total charges with outliers indicating some high values, the business might want to investigate why customers with high total charges are leaving and address those reasons to improve retention.\n",
    "The more consistent range of total charges among retained customers could indicate that customers within a specific range of spending are more likely to stay, which could be a sign of stable usage patterns and satisfaction with the service among these customers, possibly because they find the services to be of good value or due to the costs associated with switching to another provider, or lack of a better alternative.\n",
    "- **With Respect to “Senior Citizen”:** The churn rate is almost double for senior citizens versus non-seniors (41.68% >23.60%) even though seniors are only 16.2% of the total customers in the dataset. The smaller number of senior citizens in the dataset could mean we didn’t collect enough data from the senior citizen population. At the same time, their higher churning rate suggests that they may need additional retention efforts, special offers, or customized services to reduce their churn rate.\n",
    "\n",
    "- In conclusion, different variables undoubtedly have **marginal effects on our variable “Churn”** . However, **it is crucial to acknowledge that the interactions between these variables can influence churn in reality.**\n",
    "\n"
   ]
  },
  {
   "cell_type": "code",
   "execution_count": null,
   "id": "54130f3a",
   "metadata": {},
   "outputs": [],
   "source": []
  }
 ],
 "metadata": {
  "kernelspec": {
   "display_name": "Python 3 (ipykernel)",
   "language": "python",
   "name": "python3"
  },
  "language_info": {
   "codemirror_mode": {
    "name": "ipython",
    "version": 3
   },
   "file_extension": ".py",
   "mimetype": "text/x-python",
   "name": "python",
   "nbconvert_exporter": "python",
   "pygments_lexer": "ipython3",
   "version": "3.11.8"
  }
 },
 "nbformat": 4,
 "nbformat_minor": 5
}
